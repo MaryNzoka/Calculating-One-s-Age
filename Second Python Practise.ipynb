{
 "cells": [
  {
   "cell_type": "markdown",
   "id": "de6755d9",
   "metadata": {},
   "source": [
    "## Second Python Practise"
   ]
  },
  {
   "cell_type": "markdown",
   "id": "fb16b33f",
   "metadata": {},
   "source": [
    "# Calculating Age\n"
   ]
  },
  {
   "cell_type": "code",
   "execution_count": 2,
   "id": "54ff94de",
   "metadata": {},
   "outputs": [
    {
     "name": "stdout",
     "output_type": "stream",
     "text": [
      "Enter your birth year: 1999\n",
      "Your age is: 24\n"
     ]
    }
   ],
   "source": [
    "current_year = 2023\n",
    "birth_year = int(input(\"Enter your birth year: \"))\n",
    "age = current_year - birth_year\n",
    "print(\"Your age is:\", age)"
   ]
  },
  {
   "cell_type": "code",
   "execution_count": 3,
   "id": "7af8707d",
   "metadata": {},
   "outputs": [
    {
     "name": "stdout",
     "output_type": "stream",
     "text": [
      "Enter your birth year: 1999\n",
      "Your age is: 24\n"
     ]
    }
   ],
   "source": [
    "current_year = 2023\n",
    "\n",
    "birth_year = int(input(\"Enter your birth year: \"))\n",
    "\n",
    "age = current_year - birth_year\n",
    "\n",
    "print(\"Your age is:\", age)"
   ]
  },
  {
   "cell_type": "code",
   "execution_count": 4,
   "id": "b9335e81",
   "metadata": {},
   "outputs": [
    {
     "name": "stdout",
     "output_type": "stream",
     "text": [
      "Enter your birth year: 1999\n",
      "Your age is: 24\n"
     ]
    }
   ],
   "source": [
    "# Import the datetime module\n",
    "from datetime import datetime\n",
    "\n",
    "# Get the current year\n",
    "current_year = datetime.now().year\n",
    "\n",
    "# Get the user's birth year\n",
    "birth_year = int(input(\"Enter your birth year: \"))\n",
    "\n",
    "# Calculate the age\n",
    "age = current_year - birth_year\n",
    "\n",
    "# Print the age\n",
    "print(\"Your age is:\", age)"
   ]
  },
  {
   "cell_type": "code",
   "execution_count": null,
   "id": "58e2e313",
   "metadata": {},
   "outputs": [],
   "source": []
  }
 ],
 "metadata": {
  "kernelspec": {
   "display_name": "Python 3 (ipykernel)",
   "language": "python",
   "name": "python3"
  },
  "language_info": {
   "codemirror_mode": {
    "name": "ipython",
    "version": 3
   },
   "file_extension": ".py",
   "mimetype": "text/x-python",
   "name": "python",
   "nbconvert_exporter": "python",
   "pygments_lexer": "ipython3",
   "version": "3.11.2"
  }
 },
 "nbformat": 4,
 "nbformat_minor": 5
}
